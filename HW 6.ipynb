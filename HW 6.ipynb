{
 "cells": [
  {
   "cell_type": "markdown",
   "metadata": {},
   "source": [
    "**Author:** Kaetlyn Gibson\n",
    "\n",
    "**Bio 399**\n",
    "    \n",
    "**Homework 6**"
   ]
  },
  {
   "cell_type": "markdown",
   "metadata": {},
   "source": [
    "## Question 1:\n",
    "The time to fixation of an allele is defined as the number of generations that it takes to go from frequency 1/2𝑁 to 1.0. Using the drift2() function that we wrote in the week6 notebook we are going to use simulations to derive the relationship between time to fixation and population size. Using a population size of 𝑁 = 10, 50, 100, 500, start replicate populations off with an allele at frequency 1/2𝑁, as if it were a new allele, and run them for long enough that alleles go to fixation or loss. Then summarize how many generations it takes for fixation to occur.  Be sure to ignore loss of the allele.  Plot that simulated average fixation time versus population size. Write a sentence or two explaining what you observe."
   ]
  },
  {
   "cell_type": "code",
   "execution_count": 1,
   "metadata": {},
   "outputs": [],
   "source": [
    "# import statments\n",
    "import numpy as np\n",
    "from matplotlib import pyplot as plt"
   ]
  },
  {
   "cell_type": "code",
   "execution_count": 2,
   "metadata": {},
   "outputs": [],
   "source": [
    "def drift2(N, p0, gens, reps):\n",
    "    \"\"\" drift2 from week6 notebook \"\"\"\n",
    "    p = np.full((gens, reps), 0.0) #initialize\n",
    "    p[0,:] = p0\n",
    "    for i in range(1,gens):\n",
    "        p_N = np.array([np.random.binomial(N,x) for x in p[i-1,:]])\n",
    "        p[i,:] = p_N/ N\n",
    "    return(p)\n",
    "\n",
    "# def fixTime(N, p0, gens, reps):\n",
    "#     \"\"\" \n",
    "#     a variant of drift2 that calculates generations \n",
    "#     where the frequency < 1 for each replicate population\n",
    "#     (time it takes until fixation)\n",
    "#     \"\"\"\n",
    "#     p = np.full((gens, reps), 0.0) #initialize\n",
    "#     p[0,:] = p0\n",
    "#     result = [0] * reps\n",
    "#     for i in range(1,gens):\n",
    "#         p_N = np.array([np.random.binomial(N,x) for x in p[i-1,:]])\n",
    "#         p[i,:] = p_N/ N\n",
    "#         print(f\"generation: {i}\")\n",
    "#         for j in range(reps):\n",
    "#             print(f\"=>replicate population {j}, result: {p[i][j]}\")\n",
    "#             if p[i][j] == 0:\n",
    "#                 print(f\"=>=> LOSS at gen {i} in replicate population {j}!\")\n",
    "#                 result[j] = 0\n",
    "#             elif p[i][j] > 0 and p[i][j] < 1:\n",
    "#                 result[j] += 1\n",
    "#             elif p[i][j] == 1:\n",
    "#                 print(f\"=>=> FIXATION at gen {i} in replicate population {j}!\")\n",
    "#         print(f\"results for generation {j}: {result}\")\n",
    "                \n",
    "#     print(f\"result array: {result}\")\n",
    "\n",
    "def fixGens(N, p0, gens, reps):\n",
    "    \"\"\" \n",
    "    a variant of drift2 that calculates # generations \n",
    "    where the frequency < 1 for each replicate population\n",
    "    (time it takes until fixation)\n",
    "    * no extra print statements *\n",
    "    \"\"\"\n",
    "    p = np.full((gens, reps), 0.0) #initialize\n",
    "    p[0,:] = p0\n",
    "    result = [0] * reps\n",
    "    for i in range(1,gens):\n",
    "        p_N = np.array([np.random.binomial(N,x) for x in p[i-1,:]])\n",
    "        p[i,:] = p_N/ N\n",
    "        for j in range(reps):  # for each replica population\n",
    "            if p[i][j] == 0:  # loss\n",
    "                result[j] = 0  # set to 0 so we ignore it \n",
    "            elif p[i][j] > 0 and p[i][j] < 1:  # if it's not loss nor fixation\n",
    "                result[j] += 1  # it took another gen, so +1\n",
    "            # else: \n",
    "                # fixation occurred and we don't need to do anything\n",
    "#     print(f\"result array: {result}\")\n",
    "    return result\n",
    "\n",
    "def avgFixTime(N, p0, gens, reps):\n",
    "    \"\"\" \n",
    "    compute avg time for fixation across the \n",
    "    replicate populations that reached fixation (ignoring loss)\n",
    "    \"\"\"\n",
    "    fixArray = fixGens(N, p0, gens, reps)\n",
    "    fixCount = 0\n",
    "    fixTime = 0\n",
    "    for i in range(reps):\n",
    "        if fixArray[i] != 0: # ignoring loss populations\n",
    "            fixCount += 1  # counting populations that reached fixation\n",
    "            # total num generations took for all populations that reached fixation\n",
    "            fixTime += fixArray[i] + 1  # added 1 to include the generation where it hits fixation  \n",
    "    avg = np.round(fixTime / fixCount)  # round to whole number\n",
    "    avg2 = fixTime / fixCount  # round to whole number\n",
    "#     print(f\"avg fixation time: {avg} generations\")\n",
    "#     print(f\"non-rounded avg fixation time: {avg2} generations\")\n",
    "    return avg\n",
    "        "
   ]
  },
  {
   "cell_type": "markdown",
   "metadata": {},
   "source": [
    "I chose gens = 5000 so it should hopefully have enough generations to test through"
   ]
  },
  {
   "cell_type": "code",
   "execution_count": 3,
   "metadata": {},
   "outputs": [
    {
     "name": "stdout",
     "output_type": "stream",
     "text": [
      "N = 10: 28.0\n",
      "N = 50: 70.0\n",
      "N = 100: 107.0\n",
      "N = 500: 476.0\n"
     ]
    }
   ],
   "source": [
    "print(f\"N = 10: {avgFixTime(10, 0.5, 5000, 10)}\")\n",
    "print(f\"N = 50: {avgFixTime(50, 0.5, 5000, 10)}\")\n",
    "print(f\"N = 100: {avgFixTime(100, 0.5, 5000, 10)}\")\n",
    "print(f\"N = 500: {avgFixTime(500, 0.5, 5000, 10)}\")"
   ]
  },
  {
   "cell_type": "code",
   "execution_count": 4,
   "metadata": {},
   "outputs": [
    {
     "name": "stdout",
     "output_type": "stream",
     "text": [
      "{10: 11.0, 20: 33.0, 30: 33.0, 40: 25.0, 50: 106.0, 60: 68.0, 70: 72.0, 80: 110.0, 90: 244.0, 100: 128.0, 110: 95.0, 120: 127.0, 130: 196.0, 140: 351.0, 150: 244.0, 160: 312.0, 170: 219.0, 180: 386.0, 190: 148.0, 200: 285.0, 210: 269.0, 220: 478.0, 230: 232.0, 240: 177.0, 250: 221.0, 260: 240.0, 270: 124.0, 280: 426.0, 290: 357.0, 300: 871.0, 310: 517.0, 320: 409.0, 330: 651.0, 340: 372.0, 350: 339.0, 360: 635.0, 370: 584.0, 380: 638.0, 390: 840.0, 400: 610.0, 410: 591.0, 420: 787.0, 430: 261.0, 440: 717.0, 450: 402.0, 460: 388.0, 470: 320.0, 480: 490.0, 490: 1282.0, 500: 673.0}\n"
     ]
    }
   ],
   "source": [
    "nDict = {}\n",
    "for n in range(10, 510, 10):\n",
    "    nDict[n] = avgFixTime(n, 0.5, 5000, 10)   \n",
    "print(nDict)"
   ]
  },
  {
   "cell_type": "markdown",
   "metadata": {},
   "source": [
    "I just wanted a larger data set for my graph. :)"
   ]
  },
  {
   "cell_type": "code",
   "execution_count": 5,
   "metadata": {},
   "outputs": [
    {
     "data": {
      "text/plain": [
       "Text(0.5, 0, 'Population Size')"
      ]
     },
     "execution_count": 5,
     "metadata": {},
     "output_type": "execute_result"
    },
    {
     "data": {
      "image/png": "[encoded data removed]",
      "text/plain": [
       "<Figure size 432x288 with 1 Axes>"
      ]
     },
     "metadata": {
      "needs_background": "light"
     },
     "output_type": "display_data"
    }
   ],
   "source": [
    "# Make a plot of the average fixation time across replicate populations versus population size:\n",
    "plt.plot(*zip(*sorted(nDict.items())))\n",
    "plt.ylabel(\"Avg Fixation Time (in generations)\")\n",
    "plt.xlabel(\"Population Size\")"
   ]
  },
  {
   "cell_type": "markdown",
   "metadata": {},
   "source": [
    "Nice. Looks like as population size increases, the avg time (in generations) it takes to reach fixation increases as well."
   ]
  },
  {
   "cell_type": "markdown",
   "metadata": {},
   "source": [
    "## Question 2:\n",
    "Do exactly the same thing as above, computing the time to fixation, but now use the selectionPlusDrift()function from that same note-book.   For this exercise, hold 𝑁 constant at 𝑁 = 500 and vary selection against the 𝐴2 allele by using the following three vectors of selection coefficients: 𝑤 = [1, 0.99, 0.98], [1, 0.98, 0.96], [1, 0.95, 0.9]. Write a few sentences about what you notice and produce a plot of fixation time vs selection coefficient against the 𝐴2 allele, that is 𝑠 = 1 − 𝑤22."
   ]
  },
  {
   "cell_type": "code",
   "execution_count": 6,
   "metadata": {},
   "outputs": [],
   "source": [
    "def wbar(p, w_vec):\n",
    "    \"\"\"\n",
    "    compute the mean fitness from vector of geno fitnesses\n",
    "    and p the current allele freq\n",
    "    \"\"\"\n",
    "    q = 1 - p\n",
    "    wbar = (p**2 * w_vec[0]) + (2 * p * q * w_vec[1]) + (q**2 * w_vec[2])\n",
    "    return(wbar)\n",
    "\n",
    "def p_prime(p, w_vec):\n",
    "    wb = wbar(p, w_vec)\n",
    "    p_p = (p**2 * w_vec[0]) + (p * (1 - p) * w_vec[1])\n",
    "    return(p_p / wb)\n",
    "\n",
    "def selection(N, p0, w_vec, gens, reps):\n",
    "    p = np.full((gens, reps), 0.0) #initialize\n",
    "    p[0,:] = p0\n",
    "    # renormalize w_vec just in case\n",
    "    max_val = np.max(w_vec)\n",
    "    w_vec = [x / max_val for x in w_vec]\n",
    "    # main loop\n",
    "    for i in range(1,gens):\n",
    "        pp = np.array([p_prime(x, w_vec) for x in p[i-1,:]])\n",
    "        p[i,:] = pp\n",
    "    return(p)"
   ]
  },
  {
   "cell_type": "code",
   "execution_count": 7,
   "metadata": {},
   "outputs": [],
   "source": [
    "def selectionPlusDrift(N, p0, w_vec, gens, reps):\n",
    "    p = np.full((gens, reps), 0.0) #initialize\n",
    "    p[0,:] = p0\n",
    "    # renormalize w_vec just in case\n",
    "    max_val = np.max(w_vec)\n",
    "    w_vec = [x / max_val for x in w_vec]\n",
    "    # main loop\n",
    "    for i in range(1,gens):\n",
    "        pp = np.array([p_prime(x, w_vec) for x in p[i-1,:]]) # selection \n",
    "        p_N = np.array([np.random.binomial(N,x) for x in pp]) # now drift\n",
    "        p[i,:] = p_N / N # divide by popn size to get freqs\n",
    "    return(p)\n",
    "\n",
    "def selectionPlusDrift_fixGens(N, p0, w_vec, gens, reps):\n",
    "    \"\"\" \n",
    "    a variant of selectionPlusDrift that calculates \n",
    "    # generations where the frequency < 1 for each\n",
    "    replicate population (time it takes until fixation)\n",
    "    \"\"\"\n",
    "    p = np.full((gens, reps), 0.0) #initialize\n",
    "    p[0,:] = p0\n",
    "    result = [0] * reps\n",
    "    # renormalize w_vec just in case\n",
    "    max_val = np.max(w_vec)\n",
    "    w_vec = [x / max_val for x in w_vec]\n",
    "    # main loop\n",
    "    for i in range(1,gens):\n",
    "        pp = np.array([p_prime(x, w_vec) for x in p[i-1,:]]) # selection \n",
    "        p_N = np.array([np.random.binomial(N,x) for x in pp]) # now drift\n",
    "        p[i,:] = p_N / N # divide by popn size to get freqs\n",
    "        for j in range(reps):  # for each replica population\n",
    "            if p[i][j] == 0:  # loss\n",
    "                result[j] = 0  # set to 0 so we ignore it \n",
    "            elif p[i][j] > 0 and p[i][j] < 1:  # if it's not loss nor fixation\n",
    "                result[j] += 1  # it took another gen, so +1\n",
    "            # else: \n",
    "                # fixation occurred and we don't need to do anything\n",
    "    return result\n",
    "\n",
    "def selectionPlusDrift_avgFixTime(N, p0, w_vec, gens, reps):\n",
    "    \"\"\" \n",
    "    compute avg time for fixation across the \n",
    "    replicate populations that reached fixation (ignoring loss)\n",
    "    \"\"\"\n",
    "    fixArray = selectionPlusDrift_fixGens(N, p0, w_vec, gens, reps)\n",
    "    fixCount = 0\n",
    "    fixTime = 0\n",
    "    for i in range(reps):\n",
    "        if fixArray[i] != 0: # ignoring loss populations\n",
    "            fixCount += 1  # counting populations that reached fixation\n",
    "            # total num generations took for all populations that reached fixation\n",
    "            fixTime += fixArray[i] + 1  # added 1 to include the generation where it hits fixation  \n",
    "    avg = np.round(fixTime / fixCount)  # round to whole number\n",
    "    avg2 = fixTime / fixCount  # round to whole number\n",
    "#     print(f\"avg fixation time: {avg} generations\")\n",
    "#     print(f\"non-rounded avg fixation time: {avg2} generations\")\n",
    "    return avg"
   ]
  },
  {
   "cell_type": "markdown",
   "metadata": {},
   "source": [
    "Again, choosing gens = 2000 to hopefully have enough generations to test through without erroring"
   ]
  },
  {
   "cell_type": "code",
   "execution_count": 8,
   "metadata": {},
   "outputs": [
    {
     "name": "stdout",
     "output_type": "stream",
     "text": [
      "w = [1, 0.99, 0.98]: 267.0\n",
      "w = [1, 0.98, 0.96]: 205.0\n",
      "w = [1, 0.95, 0.9]: 83.0\n"
     ]
    }
   ],
   "source": [
    "w1 = [1, 0.99, 0.98]\n",
    "w2 = [1, 0.98, 0.96]\n",
    "w3 = [1, 0.95, 0.9]\n",
    "print(f\"w = {w1}: {selectionPlusDrift_avgFixTime(500,0.5,w1,2000,10)}\")\n",
    "print(f\"w = {w2}: {selectionPlusDrift_avgFixTime(500,0.5,w2,2000,10)}\")\n",
    "print(f\"w = {w3}: {selectionPlusDrift_avgFixTime(500,0.5,w3,2000,10)}\")"
   ]
  },
  {
   "cell_type": "markdown",
   "metadata": {},
   "source": [
    "Wow, the avg fixation time is decreasing! "
   ]
  },
  {
   "cell_type": "markdown",
   "metadata": {},
   "source": [
    "**Make a plot of the average fixation time across replicate populations vs selection coefficient against the 𝐴2 allele, that is 𝑠 = 1 − $𝑤_{22}$:**\n",
    "\n",
    "Okay, I'm guessing since we are selecting against the A2 allele above, and since\n",
    "$$\n",
    "\\bar{w} = p^2w_{11} + 2pqw_{12} + q^2w_{22}\n",
    "$$\n",
    "then $𝑤_{22}$ is shown as w_vec[2] in w_bar. Which means our $𝑤_{22}$ should be the third number in each of our w_vecs (makes sense). So our s = (1-0.98), (1-0.96), and (1-0.9)."
   ]
  },
  {
   "cell_type": "code",
   "execution_count": 15,
   "metadata": {},
   "outputs": [
    {
     "name": "stdout",
     "output_type": "stream",
     "text": [
      "{0.01: 421.0, 0.02: 306.0, 0.1: 286.0}\n"
     ]
    }
   ],
   "source": [
    "wDict = {\n",
    "    0.01: 0,\n",
    "    0.02: 0,\n",
    "    0.10: 0}\n",
    "for w in wDict.keys():\n",
    "    wDict[w] = selectionPlusDrift_avgFixTime(500,0.5,w1,2000,10)  \n",
    "print(wDict)"
   ]
  },
  {
   "cell_type": "code",
   "execution_count": 16,
   "metadata": {},
   "outputs": [
    {
     "data": {
      "text/plain": [
       "Text(0.5, 0, 's = 1 - w₂₂')"
      ]
     },
     "execution_count": 16,
     "metadata": {},
     "output_type": "execute_result"
    },
    {
     "data": {
      "image/png": "[encoded data removed]",
      "text/plain": [
       "<Figure size 432x288 with 1 Axes>"
      ]
     },
     "metadata": {
      "needs_background": "light"
     },
     "output_type": "display_data"
    }
   ],
   "source": [
    "# plot\n",
    "plt.plot(*zip(*sorted(wDict.items())))\n",
    "plt.ylabel(\"Avg Fixation Time (in generations)\")\n",
    "plt.xlabel(\"s = 1 - w\\N{SUBSCRIPT TWO}\\N{SUBSCRIPT TWO}\")"
   ]
  },
  {
   "cell_type": "markdown",
   "metadata": {},
   "source": [
    "Nice. Looks like the number of generations it's taking for fixation to occur is dropping the more we select against the A2 allele."
   ]
  },
  {
   "cell_type": "code",
   "execution_count": null,
   "metadata": {},
   "outputs": [],
   "source": []
  }
 ],
 "metadata": {
  "kernelspec": {
   "display_name": "Python 3",
   "language": "python",
   "name": "python3"
  },
  "language_info": {
   "codemirror_mode": {
    "name": "ipython",
    "version": 3
   },
   "file_extension": ".py",
   "mimetype": "text/x-python",
   "name": "python",
   "nbconvert_exporter": "python",
   "pygments_lexer": "ipython3",
   "version": "3.7.3"
  }
 },
 "nbformat": 4,
 "nbformat_minor": 4
}
